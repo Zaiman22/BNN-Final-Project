{
 "cells": [
  {
   "cell_type": "markdown",
   "metadata": {},
   "source": [
    "# MNIST and CIFAR-10 With BNN\n",
    "\n",
    "one of the thing you can make as a newbie with NN is a MNIST clasification. This file is praticly the same as the [Introduction to BNNs with Larq](https://docs.larq.dev/larq/tutorials/mnist/) with extra comment and gpu"
   ]
  },
  {
   "cell_type": "markdown",
   "metadata": {},
   "source": [
    "## Setting up the environement\n",
    "\n",
    "The LARQ library only compatitble with a certain version of tensorflow, hence also the cuda, so do keep in mind"
   ]
  },
  {
   "cell_type": "code",
   "execution_count": 1,
   "metadata": {},
   "outputs": [
    {
     "name": "stdout",
     "output_type": "stream",
     "text": [
      "TensorFlow version: 2.9.0\n",
      "Larq version: 0.13.3\n"
     ]
    }
   ],
   "source": [
    "import tensorflow as tf\n",
    "print(\"TensorFlow version:\", tf.__version__)\n",
    "import larq as lq\n",
    "print(\"Larq version:\", lq.__version__)\n",
    "\n",
    "import time\n"
   ]
  },
  {
   "cell_type": "markdown",
   "metadata": {},
   "source": [
    "### Check for CUDA"
   ]
  },
  {
   "cell_type": "code",
   "execution_count": 2,
   "metadata": {},
   "outputs": [
    {
     "name": "stdout",
     "output_type": "stream",
     "text": [
      "Is CUDA available: True\n",
      "Available GPUs: [PhysicalDevice(name='/physical_device:GPU:0', device_type='GPU')]\n"
     ]
    },
    {
     "name": "stderr",
     "output_type": "stream",
     "text": [
      "2025-06-16 05:04:00.235376: I tensorflow/stream_executor/cuda/cuda_gpu_executor.cc:975] successful NUMA node read from SysFS had negative value (-1), but there must be at least one NUMA node, so returning NUMA node zero\n",
      "2025-06-16 05:04:00.259770: I tensorflow/stream_executor/cuda/cuda_gpu_executor.cc:975] successful NUMA node read from SysFS had negative value (-1), but there must be at least one NUMA node, so returning NUMA node zero\n",
      "2025-06-16 05:04:00.260085: I tensorflow/stream_executor/cuda/cuda_gpu_executor.cc:975] successful NUMA node read from SysFS had negative value (-1), but there must be at least one NUMA node, so returning NUMA node zero\n"
     ]
    }
   ],
   "source": [
    "print(\"Is CUDA available:\", tf.test.is_built_with_cuda())\n",
    "print(\"Available GPUs:\", tf.config.list_physical_devices('GPU'))"
   ]
  },
  {
   "cell_type": "markdown",
   "metadata": {},
   "source": [
    "## Getting the data"
   ]
  },
  {
   "cell_type": "markdown",
   "metadata": {},
   "source": [
    "### Cifar data"
   ]
  },
  {
   "cell_type": "code",
   "execution_count": 3,
   "metadata": {},
   "outputs": [],
   "source": [
    "# Load the ImageNet-like dataset (e.g., CIFAR-10 as a smaller example)\n",
    "(train_images, train_labels), (test_images, test_labels) = tf.keras.datasets.cifar10.load_data()\n",
    "\n",
    "# Normalize pixel values to be between -1 and 1\n",
    "train_images, test_images = train_images / 127.5 - 1, test_images / 127.5 - 1\n",
    "\n",
    "# Convert labels to one-dimensional arrays\n",
    "train_labels = train_labels.flatten()\n",
    "test_labels = test_labels.flatten()"
   ]
  },
  {
   "cell_type": "markdown",
   "metadata": {},
   "source": [
    "### MNIST data"
   ]
  },
  {
   "cell_type": "code",
   "execution_count": 5,
   "metadata": {},
   "outputs": [],
   "source": [
    "(train_images, train_labels), (test_images, test_labels) = tf.keras.datasets.mnist.load_data()\n",
    "\n",
    "train_images = train_images.reshape((60000, 28, 28, 1))\n",
    "test_images = test_images.reshape((10000, 28, 28, 1))\n",
    "\n",
    "# Normalize pixel values to be between -1 and 1\n",
    "train_images, test_images = train_images / 127.5 - 1, test_images / 127.5 - 1"
   ]
  },
  {
   "cell_type": "markdown",
   "metadata": {},
   "source": [
    "## Binary Resnet18"
   ]
  },
  {
   "cell_type": "code",
   "execution_count": 4,
   "metadata": {},
   "outputs": [
    {
     "name": "stderr",
     "output_type": "stream",
     "text": [
      "/home/zaim22/anaconda3/envs/larq-env/lib/python3.10/site-packages/tqdm/auto.py:21: TqdmWarning: IProgress not found. Please update jupyter and ipywidgets. See https://ipywidgets.readthedocs.io/en/stable/user_install.html\n",
      "  from .autonotebook import tqdm as notebook_tqdm\n",
      "2025-06-16 05:04:02.525480: I tensorflow/core/platform/cpu_feature_guard.cc:193] This TensorFlow binary is optimized with oneAPI Deep Neural Network Library (oneDNN) to use the following CPU instructions in performance-critical operations:  AVX2 FMA\n",
      "To enable them in other operations, rebuild TensorFlow with the appropriate compiler flags.\n",
      "2025-06-16 05:04:02.527170: I tensorflow/stream_executor/cuda/cuda_gpu_executor.cc:975] successful NUMA node read from SysFS had negative value (-1), but there must be at least one NUMA node, so returning NUMA node zero\n",
      "2025-06-16 05:04:02.527460: I tensorflow/stream_executor/cuda/cuda_gpu_executor.cc:975] successful NUMA node read from SysFS had negative value (-1), but there must be at least one NUMA node, so returning NUMA node zero\n",
      "2025-06-16 05:04:02.527658: I tensorflow/stream_executor/cuda/cuda_gpu_executor.cc:975] successful NUMA node read from SysFS had negative value (-1), but there must be at least one NUMA node, so returning NUMA node zero\n",
      "2025-06-16 05:04:03.311985: I tensorflow/stream_executor/cuda/cuda_gpu_executor.cc:975] successful NUMA node read from SysFS had negative value (-1), but there must be at least one NUMA node, so returning NUMA node zero\n",
      "2025-06-16 05:04:03.312282: I tensorflow/stream_executor/cuda/cuda_gpu_executor.cc:975] successful NUMA node read from SysFS had negative value (-1), but there must be at least one NUMA node, so returning NUMA node zero\n",
      "2025-06-16 05:04:03.312479: I tensorflow/stream_executor/cuda/cuda_gpu_executor.cc:975] successful NUMA node read from SysFS had negative value (-1), but there must be at least one NUMA node, so returning NUMA node zero\n",
      "2025-06-16 05:04:03.312633: I tensorflow/core/common_runtime/gpu/gpu_device.cc:1532] Created device /job:localhost/replica:0/task:0/device:GPU:0 with 3380 MB memory:  -> device: 0, name: NVIDIA GeForce GTX 1050, pci bus id: 0000:01:00.0, compute capability: 6.1\n",
      "2025-06-16 05:04:05.341315: W tensorflow/core/framework/cpu_allocator_impl.cc:82] Allocation of 1228800000 exceeds 10% of free system memory.\n",
      "2025-06-16 05:04:06.641711: W tensorflow/core/framework/cpu_allocator_impl.cc:82] Allocation of 245760000 exceeds 10% of free system memory.\n"
     ]
    },
    {
     "name": "stdout",
     "output_type": "stream",
     "text": [
      "Model: \"binary_resnet_e_18\"\n",
      "__________________________________________________________________________________________________\n",
      " Layer (type)                   Output Shape         Param #     Connected to                     \n",
      "==================================================================================================\n",
      " input_1 (InputLayer)           [(None, 32, 32, 3)]  0           []                               \n",
      "                                                                                                  \n",
      " conv2d (Conv2D)                (None, 32, 32, 64)   1728        ['input_1[0][0]']                \n",
      "                                                                                                  \n",
      " quant_conv2d (QuantConv2D)     (None, 32, 32, 64)   36864       ['conv2d[0][0]']                 \n",
      "                                                                                                  \n",
      " batch_normalization (BatchNorm  (None, 32, 32, 64)  256         ['quant_conv2d[0][0]']           \n",
      " alization)                                                                                       \n",
      "                                                                                                  \n",
      " add (Add)                      (None, 32, 32, 64)   0           ['batch_normalization[0][0]',    \n",
      "                                                                  'conv2d[0][0]']                 \n",
      "                                                                                                  \n",
      " quant_conv2d_1 (QuantConv2D)   (None, 32, 32, 64)   36864       ['add[0][0]']                    \n",
      "                                                                                                  \n",
      " batch_normalization_1 (BatchNo  (None, 32, 32, 64)  256         ['quant_conv2d_1[0][0]']         \n",
      " rmalization)                                                                                     \n",
      "                                                                                                  \n",
      " add_1 (Add)                    (None, 32, 32, 64)   0           ['batch_normalization_1[0][0]',  \n",
      "                                                                  'add[0][0]']                    \n",
      "                                                                                                  \n",
      " quant_conv2d_2 (QuantConv2D)   (None, 32, 32, 64)   36864       ['add_1[0][0]']                  \n",
      "                                                                                                  \n",
      " batch_normalization_2 (BatchNo  (None, 32, 32, 64)  256         ['quant_conv2d_2[0][0]']         \n",
      " rmalization)                                                                                     \n",
      "                                                                                                  \n",
      " add_2 (Add)                    (None, 32, 32, 64)   0           ['batch_normalization_2[0][0]',  \n",
      "                                                                  'add_1[0][0]']                  \n",
      "                                                                                                  \n",
      " quant_conv2d_3 (QuantConv2D)   (None, 32, 32, 64)   36864       ['add_2[0][0]']                  \n",
      "                                                                                                  \n",
      " batch_normalization_3 (BatchNo  (None, 32, 32, 64)  256         ['quant_conv2d_3[0][0]']         \n",
      " rmalization)                                                                                     \n",
      "                                                                                                  \n",
      " add_3 (Add)                    (None, 32, 32, 64)   0           ['batch_normalization_3[0][0]',  \n",
      "                                                                  'add_2[0][0]']                  \n",
      "                                                                                                  \n",
      " max_pooling2d (MaxPooling2D)   (None, 32, 32, 64)   0           ['add_3[0][0]']                  \n",
      "                                                                                                  \n",
      " quant_conv2d_5 (QuantConv2D)   (None, 16, 16, 128)  73728       ['max_pooling2d[0][0]']          \n",
      "                                                                                                  \n",
      " quant_conv2d_4 (QuantConv2D)   (None, 16, 16, 128)  8192        ['max_pooling2d[0][0]']          \n",
      "                                                                                                  \n",
      " batch_normalization_5 (BatchNo  (None, 16, 16, 128)  512        ['quant_conv2d_5[0][0]']         \n",
      " rmalization)                                                                                     \n",
      "                                                                                                  \n",
      " batch_normalization_4 (BatchNo  (None, 16, 16, 128)  512        ['quant_conv2d_4[0][0]']         \n",
      " rmalization)                                                                                     \n",
      "                                                                                                  \n",
      " add_4 (Add)                    (None, 16, 16, 128)  0           ['batch_normalization_5[0][0]',  \n",
      "                                                                  'batch_normalization_4[0][0]']  \n",
      "                                                                                                  \n",
      " quant_conv2d_6 (QuantConv2D)   (None, 16, 16, 128)  147456      ['add_4[0][0]']                  \n",
      "                                                                                                  \n",
      " batch_normalization_6 (BatchNo  (None, 16, 16, 128)  512        ['quant_conv2d_6[0][0]']         \n",
      " rmalization)                                                                                     \n",
      "                                                                                                  \n",
      " add_5 (Add)                    (None, 16, 16, 128)  0           ['batch_normalization_6[0][0]',  \n",
      "                                                                  'add_4[0][0]']                  \n",
      "                                                                                                  \n",
      " quant_conv2d_7 (QuantConv2D)   (None, 16, 16, 128)  147456      ['add_5[0][0]']                  \n",
      "                                                                                                  \n",
      " batch_normalization_7 (BatchNo  (None, 16, 16, 128)  512        ['quant_conv2d_7[0][0]']         \n",
      " rmalization)                                                                                     \n",
      "                                                                                                  \n",
      " add_6 (Add)                    (None, 16, 16, 128)  0           ['batch_normalization_7[0][0]',  \n",
      "                                                                  'add_5[0][0]']                  \n",
      "                                                                                                  \n",
      " quant_conv2d_8 (QuantConv2D)   (None, 16, 16, 128)  147456      ['add_6[0][0]']                  \n",
      "                                                                                                  \n",
      " batch_normalization_8 (BatchNo  (None, 16, 16, 128)  512        ['quant_conv2d_8[0][0]']         \n",
      " rmalization)                                                                                     \n",
      "                                                                                                  \n",
      " add_7 (Add)                    (None, 16, 16, 128)  0           ['batch_normalization_8[0][0]',  \n",
      "                                                                  'add_6[0][0]']                  \n",
      "                                                                                                  \n",
      " max_pooling2d_1 (MaxPooling2D)  (None, 16, 16, 128)  0          ['add_7[0][0]']                  \n",
      "                                                                                                  \n",
      " quant_conv2d_10 (QuantConv2D)  (None, 8, 8, 256)    294912      ['max_pooling2d_1[0][0]']        \n",
      "                                                                                                  \n",
      " quant_conv2d_9 (QuantConv2D)   (None, 8, 8, 256)    32768       ['max_pooling2d_1[0][0]']        \n",
      "                                                                                                  \n",
      " batch_normalization_10 (BatchN  (None, 8, 8, 256)   1024        ['quant_conv2d_10[0][0]']        \n",
      " ormalization)                                                                                    \n",
      "                                                                                                  \n",
      " batch_normalization_9 (BatchNo  (None, 8, 8, 256)   1024        ['quant_conv2d_9[0][0]']         \n",
      " rmalization)                                                                                     \n",
      "                                                                                                  \n",
      " add_8 (Add)                    (None, 8, 8, 256)    0           ['batch_normalization_10[0][0]', \n",
      "                                                                  'batch_normalization_9[0][0]']  \n",
      "                                                                                                  \n",
      " quant_conv2d_11 (QuantConv2D)  (None, 8, 8, 256)    589824      ['add_8[0][0]']                  \n",
      "                                                                                                  \n",
      " batch_normalization_11 (BatchN  (None, 8, 8, 256)   1024        ['quant_conv2d_11[0][0]']        \n",
      " ormalization)                                                                                    \n",
      "                                                                                                  \n",
      " add_9 (Add)                    (None, 8, 8, 256)    0           ['batch_normalization_11[0][0]', \n",
      "                                                                  'add_8[0][0]']                  \n",
      "                                                                                                  \n",
      " quant_conv2d_12 (QuantConv2D)  (None, 8, 8, 256)    589824      ['add_9[0][0]']                  \n",
      "                                                                                                  \n",
      " batch_normalization_12 (BatchN  (None, 8, 8, 256)   1024        ['quant_conv2d_12[0][0]']        \n",
      " ormalization)                                                                                    \n",
      "                                                                                                  \n",
      " add_10 (Add)                   (None, 8, 8, 256)    0           ['batch_normalization_12[0][0]', \n",
      "                                                                  'add_9[0][0]']                  \n",
      "                                                                                                  \n",
      " quant_conv2d_13 (QuantConv2D)  (None, 8, 8, 256)    589824      ['add_10[0][0]']                 \n",
      "                                                                                                  \n",
      " batch_normalization_13 (BatchN  (None, 8, 8, 256)   1024        ['quant_conv2d_13[0][0]']        \n",
      " ormalization)                                                                                    \n",
      "                                                                                                  \n",
      " add_11 (Add)                   (None, 8, 8, 256)    0           ['batch_normalization_13[0][0]', \n",
      "                                                                  'add_10[0][0]']                 \n",
      "                                                                                                  \n",
      " quant_conv2d_15 (QuantConv2D)  (None, 4, 4, 512)    1179648     ['add_11[0][0]']                 \n",
      "                                                                                                  \n",
      " quant_conv2d_14 (QuantConv2D)  (None, 4, 4, 512)    131072      ['add_11[0][0]']                 \n",
      "                                                                                                  \n",
      " batch_normalization_15 (BatchN  (None, 4, 4, 512)   2048        ['quant_conv2d_15[0][0]']        \n",
      " ormalization)                                                                                    \n",
      "                                                                                                  \n",
      " batch_normalization_14 (BatchN  (None, 4, 4, 512)   2048        ['quant_conv2d_14[0][0]']        \n",
      " ormalization)                                                                                    \n",
      "                                                                                                  \n",
      " add_12 (Add)                   (None, 4, 4, 512)    0           ['batch_normalization_15[0][0]', \n",
      "                                                                  'batch_normalization_14[0][0]'] \n",
      "                                                                                                  \n",
      " quant_conv2d_16 (QuantConv2D)  (None, 4, 4, 512)    2359296     ['add_12[0][0]']                 \n",
      "                                                                                                  \n",
      " batch_normalization_16 (BatchN  (None, 4, 4, 512)   2048        ['quant_conv2d_16[0][0]']        \n",
      " ormalization)                                                                                    \n",
      "                                                                                                  \n",
      " add_13 (Add)                   (None, 4, 4, 512)    0           ['batch_normalization_16[0][0]', \n",
      "                                                                  'add_12[0][0]']                 \n",
      "                                                                                                  \n",
      " quant_conv2d_17 (QuantConv2D)  (None, 4, 4, 512)    2359296     ['add_13[0][0]']                 \n",
      "                                                                                                  \n",
      " batch_normalization_17 (BatchN  (None, 4, 4, 512)   2048        ['quant_conv2d_17[0][0]']        \n",
      " ormalization)                                                                                    \n",
      "                                                                                                  \n",
      " add_14 (Add)                   (None, 4, 4, 512)    0           ['batch_normalization_17[0][0]', \n",
      "                                                                  'add_13[0][0]']                 \n",
      "                                                                                                  \n",
      " quant_conv2d_18 (QuantConv2D)  (None, 4, 4, 512)    2359296     ['add_14[0][0]']                 \n",
      "                                                                                                  \n",
      " batch_normalization_18 (BatchN  (None, 4, 4, 512)   2048        ['quant_conv2d_18[0][0]']        \n",
      " ormalization)                                                                                    \n",
      "                                                                                                  \n",
      " add_15 (Add)                   (None, 4, 4, 512)    0           ['batch_normalization_18[0][0]', \n",
      "                                                                  'add_14[0][0]']                 \n",
      "                                                                                                  \n",
      " activation (Activation)        (None, 4, 4, 512)    0           ['add_15[0][0]']                 \n",
      "                                                                                                  \n",
      " average_pooling2d (AveragePool  (None, 1, 1, 512)   0           ['activation[0][0]']             \n",
      " ing2D)                                                                                           \n",
      "                                                                                                  \n",
      " flatten (Flatten)              (None, 512)          0           ['average_pooling2d[0][0]']      \n",
      "                                                                                                  \n",
      " dense (Dense)                  (None, 10)           5130        ['flatten[0][0]']                \n",
      "                                                                                                  \n",
      " activation_1 (Activation)      (None, 10)           0           ['dense[0][0]']                  \n",
      "                                                                                                  \n",
      "==================================================================================================\n",
      "Total params: 11,183,306\n",
      "Trainable params: 11,173,834\n",
      "Non-trainable params: 9,472\n",
      "__________________________________________________________________________________________________\n"
     ]
    }
   ],
   "source": [
    "from larq_zoo.literature import BinaryResNetE18\n",
    "import tensorflow as tf\n",
    "\n",
    "# Resize and convert the dataset to match the expected input shape\n",
    "train_images_resized = tf.image.resize(train_images, (32, 32))\n",
    "test_images_resized = tf.image.resize(test_images, (32, 32))\n",
    "\n",
    "# Load the BinaryResNetE18 model\n",
    "model = BinaryResNetE18(input_shape=(32, 32, 3), include_top=True, weights=None, num_classes=10)\n",
    "\n",
    "# Display the model summary\n",
    "model.summary()\n",
    "\n"
   ]
  },
  {
   "cell_type": "code",
   "execution_count": null,
   "metadata": {},
   "outputs": [
    {
     "name": "stderr",
     "output_type": "stream",
     "text": [
      "2025-06-16 05:04:42.025402: W tensorflow/core/framework/cpu_allocator_impl.cc:82] Allocation of 491520000 exceeds 10% of free system memory.\n",
      "2025-06-16 05:04:42.488887: W tensorflow/core/framework/cpu_allocator_impl.cc:82] Allocation of 491520000 exceeds 10% of free system memory.\n"
     ]
    },
    {
     "name": "stdout",
     "output_type": "stream",
     "text": [
      "Epoch 1/20\n"
     ]
    },
    {
     "name": "stderr",
     "output_type": "stream",
     "text": [
      "2025-06-16 05:04:46.432323: I tensorflow/stream_executor/cuda/cuda_dnn.cc:384] Loaded cuDNN version 8100\n",
      "2025-06-16 05:04:48.275251: W tensorflow/core/common_runtime/bfc_allocator.cc:290] Allocator (GPU_0_bfc) ran out of memory trying to allocate 1.61GiB with freed_by_count=0. The caller indicates that this is not a failure, but this may mean that there could be performance gains if more memory were available.\n",
      "2025-06-16 05:04:48.610914: W tensorflow/core/common_runtime/bfc_allocator.cc:290] Allocator (GPU_0_bfc) ran out of memory trying to allocate 1.61GiB with freed_by_count=0. The caller indicates that this is not a failure, but this may mean that there could be performance gains if more memory were available.\n",
      "2025-06-16 05:04:48.743536: W tensorflow/core/common_runtime/bfc_allocator.cc:290] Allocator (GPU_0_bfc) ran out of memory trying to allocate 2.96GiB with freed_by_count=0. The caller indicates that this is not a failure, but this may mean that there could be performance gains if more memory were available.\n"
     ]
    },
    {
     "name": "stdout",
     "output_type": "stream",
     "text": [
      "  7/313 [..............................] - ETA: 1:35 - loss: 2.6759 - accuracy: 0.1641"
     ]
    }
   ],
   "source": [
    "# Compile the model\n",
    "model.compile(optimizer='adam',\n",
    "              loss='sparse_categorical_crossentropy',\n",
    "              metrics=['accuracy'])\n",
    "# model.load_weights(\"binary_resnet18_mnist.h5\")\n",
    "\n",
    "# Train the model\n",
    "with tf.device('/GPU:0'):  # Use '/GPU:0' for the first GPU or '/CPU:0' for CPU\n",
    "    start_time = time.time()\n",
    "    model.fit(train_images, train_labels, batch_size=128, epochs=10, validation_split=0.2, verbose=1)\n",
    "    end_time = time.time()\n",
    "    print('Total Training Time: %.2f min' % ((end_time - start_time) / 60))\n",
    "\n",
    "# Evaluate the model\n",
    "test_loss, test_acc = model.evaluate(test_images, test_labels)\n",
    "print(f\"Test Accuracy: {test_acc}\")"
   ]
  },
  {
   "cell_type": "code",
   "execution_count": 12,
   "metadata": {},
   "outputs": [
    {
     "name": "stdout",
     "output_type": "stream",
     "text": [
      "313/313 [==============================] - 11s 34ms/step - loss: 1.4144 - accuracy: 0.6772\n",
      "Test Accuracy: 0.6772000193595886\n"
     ]
    }
   ],
   "source": [
    "# Evaluate the model\n",
    "test_loss, test_acc = model.evaluate(test_images, test_labels)\n",
    "print(f\"Test Accuracy: {test_acc}\")"
   ]
  },
  {
   "cell_type": "code",
   "execution_count": 10,
   "metadata": {},
   "outputs": [
    {
     "name": "stdout",
     "output_type": "stream",
     "text": [
      "Model saved to binary_resnet18_mnist.h5\n"
     ]
    }
   ],
   "source": [
    "model.save(\"binary_resnet18_mnist.h5\")\n",
    "print(\"Model saved to binary_resnet18_mnist.h5\")"
   ]
  },
  {
   "cell_type": "code",
   "execution_count": 11,
   "metadata": {},
   "outputs": [
    {
     "name": "stdout",
     "output_type": "stream",
     "text": [
      "+binary_resnet_e_18 stats--------------------------------------------------------------------------------------+\n",
      "| Layer                   Input prec.            Outputs   # 1-bit  # 32-bit   Memory  1-bit MACs  32-bit MACs |\n",
      "|                               (bit)                          x 1       x 1     (kB)                          |\n",
      "+--------------------------------------------------------------------------------------------------------------+\n",
      "| input_1                           -    (-1, 32, 32, 3)         0         0        0           ?            ? |\n",
      "| conv2d                            -   (-1, 32, 32, 64)         0      1728     6.75           0      1769472 |\n",
      "| quant_conv2d                      1   (-1, 32, 32, 64)     36864         0     4.50    37748736            0 |\n",
      "| batch_normalization               -   (-1, 32, 32, 64)         0       128     0.50           0            0 |\n",
      "| add                               -   (-1, 32, 32, 64)         0         0        0           ?            ? |\n",
      "| quant_conv2d_1                    1   (-1, 32, 32, 64)     36864         0     4.50    37748736            0 |\n",
      "| batch_normalization_1             -   (-1, 32, 32, 64)         0       128     0.50           0            0 |\n",
      "| add_1                             -   (-1, 32, 32, 64)         0         0        0           ?            ? |\n",
      "| quant_conv2d_2                    1   (-1, 32, 32, 64)     36864         0     4.50    37748736            0 |\n",
      "| batch_normalization_2             -   (-1, 32, 32, 64)         0       128     0.50           0            0 |\n",
      "| add_2                             -   (-1, 32, 32, 64)         0         0        0           ?            ? |\n",
      "| quant_conv2d_3                    1   (-1, 32, 32, 64)     36864         0     4.50    37748736            0 |\n",
      "| batch_normalization_3             -   (-1, 32, 32, 64)         0       128     0.50           0            0 |\n",
      "| add_3                             -   (-1, 32, 32, 64)         0         0        0           ?            ? |\n",
      "| quant_conv2d_5                    1  (-1, 16, 16, 128)     73728         0     9.00    18874368            0 |\n",
      "| quant_conv2d_4                    1  (-1, 16, 16, 128)      8192         0     1.00     2097152            0 |\n",
      "| batch_normalization_5             -  (-1, 16, 16, 128)         0       256     1.00           0            0 |\n",
      "| batch_normalization_4             -  (-1, 16, 16, 128)         0       256     1.00           0            0 |\n",
      "| add_4                             -  (-1, 16, 16, 128)         0         0        0           ?            ? |\n",
      "| quant_conv2d_6                    1  (-1, 16, 16, 128)    147456         0    18.00    37748736            0 |\n",
      "| batch_normalization_6             -  (-1, 16, 16, 128)         0       256     1.00           0            0 |\n",
      "| add_5                             -  (-1, 16, 16, 128)         0         0        0           ?            ? |\n",
      "| quant_conv2d_7                    1  (-1, 16, 16, 128)    147456         0    18.00    37748736            0 |\n",
      "| batch_normalization_7             -  (-1, 16, 16, 128)         0       256     1.00           0            0 |\n",
      "| add_6                             -  (-1, 16, 16, 128)         0         0        0           ?            ? |\n",
      "| quant_conv2d_8                    1  (-1, 16, 16, 128)    147456         0    18.00    37748736            0 |\n",
      "| batch_normalization_8             -  (-1, 16, 16, 128)         0       256     1.00           0            0 |\n",
      "| add_7                             -  (-1, 16, 16, 128)         0         0        0           ?            ? |\n",
      "| quant_conv2d_10                   1    (-1, 8, 8, 256)    294912         0    36.00    18874368            0 |\n",
      "| quant_conv2d_9                    1    (-1, 8, 8, 256)     32768         0     4.00     2097152            0 |\n",
      "| batch_normalization_10            -    (-1, 8, 8, 256)         0       512     2.00           0            0 |\n",
      "| batch_normalization_9             -    (-1, 8, 8, 256)         0       512     2.00           0            0 |\n",
      "| add_8                             -    (-1, 8, 8, 256)         0         0        0           ?            ? |\n",
      "| quant_conv2d_11                   1    (-1, 8, 8, 256)    589824         0    72.00    37748736            0 |\n",
      "| batch_normalization_11            -    (-1, 8, 8, 256)         0       512     2.00           0            0 |\n",
      "| add_9                             -    (-1, 8, 8, 256)         0         0        0           ?            ? |\n",
      "| quant_conv2d_12                   1    (-1, 8, 8, 256)    589824         0    72.00    37748736            0 |\n",
      "| batch_normalization_12            -    (-1, 8, 8, 256)         0       512     2.00           0            0 |\n",
      "| add_10                            -    (-1, 8, 8, 256)         0         0        0           ?            ? |\n",
      "| quant_conv2d_13                   1    (-1, 8, 8, 256)    589824         0    72.00    37748736            0 |\n",
      "| batch_normalization_13            -    (-1, 8, 8, 256)         0       512     2.00           0            0 |\n",
      "| add_11                            -    (-1, 8, 8, 256)         0         0        0           ?            ? |\n",
      "| quant_conv2d_15                   1    (-1, 4, 4, 512)   1179648         0   144.00    18874368            0 |\n",
      "| quant_conv2d_14                   1    (-1, 4, 4, 512)    131072         0    16.00     2097152            0 |\n",
      "| batch_normalization_15            -    (-1, 4, 4, 512)         0      1024     4.00           0            0 |\n",
      "| batch_normalization_14            -    (-1, 4, 4, 512)         0      1024     4.00           0            0 |\n",
      "| add_12                            -    (-1, 4, 4, 512)         0         0        0           ?            ? |\n",
      "| quant_conv2d_16                   1    (-1, 4, 4, 512)   2359296         0   288.00    37748736            0 |\n",
      "| batch_normalization_16            -    (-1, 4, 4, 512)         0      1024     4.00           0            0 |\n",
      "| add_13                            -    (-1, 4, 4, 512)         0         0        0           ?            ? |\n",
      "| quant_conv2d_17                   1    (-1, 4, 4, 512)   2359296         0   288.00    37748736            0 |\n",
      "| batch_normalization_17            -    (-1, 4, 4, 512)         0      1024     4.00           0            0 |\n",
      "| add_14                            -    (-1, 4, 4, 512)         0         0        0           ?            ? |\n",
      "| quant_conv2d_18                   1    (-1, 4, 4, 512)   2359296         0   288.00    37748736            0 |\n",
      "| batch_normalization_18            -    (-1, 4, 4, 512)         0      1024     4.00           0            0 |\n",
      "| add_15                            -    (-1, 4, 4, 512)         0         0        0           ?            ? |\n",
      "| activation                        -    (-1, 4, 4, 512)         0         0        0           ?            ? |\n",
      "| average_pooling2d                 -    (-1, 1, 1, 512)         0         0        0           0            0 |\n",
      "| flatten                           -          (-1, 512)         0         0        0           0            0 |\n",
      "| dense                             -           (-1, 10)         0      5130    20.04           0         5120 |\n",
      "| activation_1                      -           (-1, 10)         0         0        0           ?            ? |\n",
      "+--------------------------------------------------------------------------------------------------------------+\n",
      "| Total                                                   11157504     16330  1425.79   553648128      1774592 |\n",
      "+--------------------------------------------------------------------------------------------------------------+\n",
      "+binary_resnet_e_18 summary-------------------+\n",
      "| Total params                      11.2 M    |\n",
      "| Trainable params                  11.2 M    |\n",
      "| Non-trainable params              9.47 k    |\n",
      "| Model size                        1.39 MiB  |\n",
      "| Model size (8-bit FP weights)     1.35 MiB  |\n",
      "| Float-32 Equivalent               42.62 MiB |\n",
      "| Compression Ratio of Memory       0.03      |\n",
      "| Number of MACs                    555 M     |\n",
      "| Ratio of MACs that are binarized  0.9968    |\n",
      "+---------------------------------------------+\n"
     ]
    }
   ],
   "source": [
    "lq.models.summary(model)"
   ]
  },
  {
   "cell_type": "code",
   "execution_count": 30,
   "metadata": {},
   "outputs": [
    {
     "name": "stdout",
     "output_type": "stream",
     "text": [
      "1/1 [==============================] - 0s 30ms/step\n"
     ]
    },
    {
     "name": "stderr",
     "output_type": "stream",
     "text": [
      "Clipping input data to the valid range for imshow with RGB data ([0..1] for floats or [0..255] for integers). Got range [-0.9137255..1.0].\n"
     ]
    },
    {
     "data": {
      "image/png": "[encoded data removed]",
      "text/plain": [
       "<Figure size 640x480 with 1 Axes>"
      ]
     },
     "metadata": {},
     "output_type": "display_data"
    }
   ],
   "source": [
    "import numpy as np\n",
    "\n",
    "import matplotlib.pyplot as plt\n",
    "\n",
    "# Select a random test image\n",
    "index = np.random.randint(0, len(test_images_resized))\n",
    "image = test_images_resized[index]\n",
    "true_label = test_labels[index]\n",
    "\n",
    "# Predict the label\n",
    "predictions = model.predict(image[np.newaxis, ...])\n",
    "predicted_label = np.argmax(predictions)\n",
    "\n",
    "# Display the image and prediction\n",
    "plt.imshow(tf.squeeze(image).numpy(), cmap='gray')\n",
    "plt.title(f\"True Label: {true_label}, Predicted: {predicted_label}\")\n",
    "plt.axis('off')\n",
    "plt.show()"
   ]
  },
  {
   "cell_type": "code",
   "execution_count": null,
   "metadata": {},
   "outputs": [],
   "source": [
    "import netron\n",
    "\n",
    "\n"
   ]
  }
 ],
 "metadata": {
  "kernelspec": {
   "display_name": "larq-env",
   "language": "python",
   "name": "larq-env"
  },
  "language_info": {
   "codemirror_mode": {
    "name": "ipython",
    "version": 3
   },
   "file_extension": ".py",
   "mimetype": "text/x-python",
   "name": "python",
   "nbconvert_exporter": "python",
   "pygments_lexer": "ipython3",
   "version": "3.10.16"
  }
 },
 "nbformat": 4,
 "nbformat_minor": 2
}
