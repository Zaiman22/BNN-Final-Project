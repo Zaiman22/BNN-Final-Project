{
 "cells": [
  {
   "cell_type": "markdown",
   "id": "3cf318e8-78e4-42c4-8e44-606ca5b81d80",
   "metadata": {},
   "source": [
    "# Brevitas"
   ]
  },
  {
   "cell_type": "markdown",
   "id": "72bec7a6-94b9-41a8-b445-7d977f71a661",
   "metadata": {},
   "source": [
    "## 1 Traditional Binary Neural Network (MNIST)"
   ]
  },
  {
   "cell_type": "markdown",
   "id": "e86007cc-a84d-450b-b126-85b56ce5954e",
   "metadata": {},
   "source": [
    "### 1.1 Importing and checking hardware"
   ]
  },
  {
   "cell_type": "code",
   "execution_count": 1,
   "id": "724a188a-fb28-4848-87d4-afc85901e7dc",
   "metadata": {},
   "outputs": [
    {
     "name": "stdout",
     "output_type": "stream",
     "text": [
      "Torch version: 2.8.0+cu128\n",
      "Brevitas version: 0.12.1\n",
      "Cuda is available: True\n",
      "device: NVIDIA GeForce RTX 3060\n"
     ]
    }
   ],
   "source": [
    "import os\n",
    "import numpy as np\n",
    "import matplotlib.pyplot as plt\n",
    "\n",
    "# for training model\n",
    "import brevitas\n",
    "import torch\n",
    "\n",
    "# # for dataset\n",
    "from torch.utils.data import Dataset\n",
    "from torchvision import datasets\n",
    "from torchvision.transforms import ToTensor\n",
    "from torch.utils.data import DataLoader\n",
    "\n",
    "# Checking version\n",
    "print(f'Torch version: {torch.__version__}')\n",
    "print(f'Brevitas version: {brevitas.__version__}')\n",
    "\n",
    "\n",
    "# checking hardware\n",
    "# if torch.cuda.is_available():\n",
    "print(f'Cuda is available: {torch.cuda.is_available()}')  # should be True\n",
    "print(f'device: {torch.cuda.get_device_name(0)}')  # should say RTX 3060\n",
    "# Device\n",
    "device = torch.device(\"cuda\" if torch.cuda.is_available() else \"cpu\")\n"
   ]
  },
  {
   "cell_type": "markdown",
   "id": "3c61fa43",
   "metadata": {},
   "source": [
    "## 1.2 Importing dataset"
   ]
  },
  {
   "cell_type": "code",
   "execution_count": 2,
   "id": "fb781b7f",
   "metadata": {},
   "outputs": [],
   "source": [
    "dataset_dir = '/home/jovyan/dataset'\n",
    "\n",
    "\n",
    "training_data = datasets.MNIST(\n",
    "    root=dataset_dir,\n",
    "    train=True,\n",
    "    download=True,\n",
    "    transform=ToTensor()\n",
    ")\n",
    "\n",
    "test_data = datasets.MNIST(\n",
    "    root=dataset_dir,\n",
    "    train=False,\n",
    "    download=True,\n",
    "    transform=ToTensor()\n",
    ")"
   ]
  },
  {
   "cell_type": "code",
   "execution_count": 3,
   "id": "3dc39c5a",
   "metadata": {},
   "outputs": [],
   "source": [
    "train_dataloader = DataLoader(training_data, batch_size=64, shuffle=True)\n",
    "test_dataloader = DataLoader(test_data, batch_size=64, shuffle=True)"
   ]
  },
  {
   "cell_type": "markdown",
   "id": "93d85bd7",
   "metadata": {},
   "source": [
    "## 1.3 Creating VGG-16 binary code"
   ]
  },
  {
   "cell_type": "code",
   "execution_count": null,
   "id": "c5ff4cb0",
   "metadata": {},
   "outputs": [
    {
     "name": "stdout",
     "output_type": "stream",
     "text": [
      "Model params: 44426\n",
      "Epoch 01  train_loss=nan train_acc=0.0987  val_loss=nan val_acc=0.0980  time=6.0s\n",
      "Epoch 02  train_loss=nan train_acc=0.0987  val_loss=nan val_acc=0.0980  time=6.0s\n",
      "Epoch 03  train_loss=nan train_acc=0.0987  val_loss=nan val_acc=0.0980  time=6.1s\n",
      "Epoch 04  train_loss=nan train_acc=0.0987  val_loss=nan val_acc=0.0980  time=5.9s\n",
      "Epoch 05  train_loss=nan train_acc=0.0987  val_loss=nan val_acc=0.0980  time=5.9s\n"
     ]
    }
   ],
   "source": [
    "import torch\n",
    "import torch.nn as nn\n",
    "import torch.nn.functional as F\n",
    "import torch.optim as optim\n",
    "from torchvision import datasets, transforms\n",
    "from torch.utils.data import DataLoader\n",
    "import brevitas.nn as qnn\n",
    "import time\n",
    "\n",
    "# --------------------\n",
    "# Model\n",
    "# --------------------\n",
    "class QuantWeightLeNet(nn.Module):\n",
    "    def __init__(self):\n",
    "        super(QuantWeightLeNet, self).__init__()\n",
    "        self.conv1 = qnn.QuantConv2d(1, 6, 5, bias=True, weight_bit_width=2)  # grayscale input\n",
    "        self.relu1 = nn.ReLU()\n",
    "        self.conv2 = qnn.QuantConv2d(6, 16, 5, bias=True, weight_bit_width=2)\n",
    "        self.relu2 = nn.ReLU()\n",
    "        self.fc1   = qnn.QuantLinear(16*4*4, 120, bias=True, weight_bit_width=2) # after pooling\n",
    "        self.relu3 = nn.ReLU()\n",
    "        self.fc2   = qnn.QuantLinear(120, 84, bias=True, weight_bit_width=2)\n",
    "        self.relu4 = nn.ReLU()\n",
    "        self.fc3   = qnn.QuantLinear(84, 10, bias=True, weight_bit_width=8)\n",
    "\n",
    "    def forward(self, x):\n",
    "        out = self.relu1(self.conv1(x))\n",
    "        out = F.max_pool2d(out, 2)\n",
    "        out = self.relu2(self.conv2(out))\n",
    "        out = F.max_pool2d(out, 2)\n",
    "        out = out.view(out.size(0), -1)  # flatten\n",
    "        out = self.relu3(self.fc1(out))\n",
    "        out = self.relu4(self.fc2(out))\n",
    "        out = self.fc3(out)\n",
    "        return out\n",
    "\n",
    "# --------------------\n",
    "# Training setup\n",
    "# --------------------\n",
    "device = torch.device(\"cuda\")\n",
    "model = QuantWeightLeNet().to(device)\n",
    "print(\"Model params:\", sum(p.numel() for p in model.parameters()))\n",
    "\n",
    "criterion = nn.CrossEntropyLoss()\n",
    "optimizer = optim.Adam(model.parameters(), lr=1e-4, weight_decay=1e-5)\n",
    "scheduler = optim.lr_scheduler.StepLR(optimizer, step_size=10, gamma=0.5)\n",
    "\n",
    "# --------------------\n",
    "# Training / Eval loops\n",
    "# --------------------\n",
    "def train_epoch(model, loader, optimizer, criterion, device):\n",
    "    model.train()\n",
    "    running_loss, correct, total = 0.0, 0, 0\n",
    "    for xb, yb in loader:\n",
    "        xb, yb = xb.to(device), yb.to(device)\n",
    "        optimizer.zero_grad()\n",
    "        out = model(xb)\n",
    "        loss = criterion(out, yb)\n",
    "        loss.backward()\n",
    "        optimizer.step()\n",
    "        running_loss += loss.item() * xb.size(0)\n",
    "        preds = out.argmax(dim=1)\n",
    "        correct += (preds == yb).sum().item()\n",
    "        total += xb.size(0)\n",
    "    return running_loss/total, correct/total\n",
    "\n",
    "def eval_model(model, loader, criterion, device):\n",
    "    model.eval()\n",
    "    running_loss, correct, total = 0.0, 0, 0\n",
    "    with torch.no_grad():\n",
    "        for xb, yb in loader:\n",
    "            xb, yb = xb.to(device), yb.to(device)\n",
    "            out = model(xb)\n",
    "            loss = criterion(out, yb)\n",
    "            running_loss += loss.item() * xb.size(0)\n",
    "            preds = out.argmax(dim=1)\n",
    "            correct += (preds == yb).sum().item()\n",
    "            total += xb.size(0)\n",
    "    return running_loss/total, correct/total\n",
    "\n",
    "# --------------------\n",
    "# Run Training\n",
    "# --------------------\n",
    "n_epochs = 12\n",
    "for ep in range(1, n_epochs + 1):\n",
    "    t0 = time.time()\n",
    "    train_loss, train_acc = train_epoch(model, train_dataloader, optimizer, criterion, device)\n",
    "    val_loss, val_acc = eval_model(model, test_dataloader, criterion, device)\n",
    "    scheduler.step()\n",
    "    t1 = time.time()\n",
    "    print(f\"Epoch {ep:02d}  \"\n",
    "          f\"train_loss={train_loss:.4f} train_acc={train_acc:.4f}  \"\n",
    "          f\"val_loss={val_loss:.4f} val_acc={val_acc:.4f}  \"\n",
    "          f\"time={t1-t0:.1f}s\")\n"
   ]
  },
  {
   "cell_type": "code",
   "execution_count": null,
   "id": "6b18e4aa-2ab8-4bba-a62b-8bfcb714d906",
   "metadata": {},
   "outputs": [],
   "source": []
  }
 ],
 "metadata": {
  "kernelspec": {
   "display_name": "Python 3 (ipykernel)",
   "language": "python",
   "name": "python3"
  },
  "language_info": {
   "codemirror_mode": {
    "name": "ipython",
    "version": 3
   },
   "file_extension": ".py",
   "mimetype": "text/x-python",
   "name": "python",
   "nbconvert_exporter": "python",
   "pygments_lexer": "ipython3",
   "version": "3.11.8"
  }
 },
 "nbformat": 4,
 "nbformat_minor": 5
}
