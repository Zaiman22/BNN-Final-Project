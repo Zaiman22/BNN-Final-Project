{
 "cells": [
  {
   "cell_type": "markdown",
   "id": "3cf318e8-78e4-42c4-8e44-606ca5b81d80",
   "metadata": {},
   "source": [
    "# Brevitas"
   ]
  },
  {
   "cell_type": "markdown",
   "id": "72bec7a6-94b9-41a8-b445-7d977f71a661",
   "metadata": {},
   "source": [
    "## 1 Traditional Binary Neural Network"
   ]
  },
  {
   "cell_type": "markdown",
   "id": "e86007cc-a84d-450b-b126-85b56ce5954e",
   "metadata": {},
   "source": [
    "### 1.1 Importing and checking hardware"
   ]
  },
  {
   "cell_type": "code",
   "execution_count": 1,
   "id": "724a188a-fb28-4848-87d4-afc85901e7dc",
   "metadata": {},
   "outputs": [
    {
     "name": "stdout",
     "output_type": "stream",
     "text": [
      "Cuda is available: True\n",
      "device: NVIDIA GeForce RTX 3060\n"
     ]
    }
   ],
   "source": [
    "import brevitas\n",
    "import torch\n",
    "import numpy as np\n",
    "import matplotlib.pyplot as plt\n",
    "\n",
    "\n",
    "# checking hardware\n",
    "if torch.cuda.is_available():\n",
    "    print(f'Cuda is available: {torch.cuda.is_available()}')  # should be True\n",
    "    print(f'device: {torch.cuda.get_device_name(0)}')  # should say RTX 3060\n"
   ]
  }
 ],
 "metadata": {
  "kernelspec": {
   "display_name": "Python 3 (ipykernel)",
   "language": "python",
   "name": "python3"
  },
  "language_info": {
   "codemirror_mode": {
    "name": "ipython",
    "version": 3
   },
   "file_extension": ".py",
   "mimetype": "text/x-python",
   "name": "python",
   "nbconvert_exporter": "python",
   "pygments_lexer": "ipython3",
   "version": "3.11.8"
  }
 },
 "nbformat": 4,
 "nbformat_minor": 5
}
